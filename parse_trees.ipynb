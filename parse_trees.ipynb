{
 "cells": [
  {
   "cell_type": "code",
   "execution_count": 1,
   "metadata": {},
   "outputs": [
    {
     "name": "stderr",
     "output_type": "stream",
     "text": [
      "/home/yy/.local/lib/python3.8/site-packages/Bio/Seq.py:2979: BiopythonWarning: Partial codon, len(sequence) not a multiple of three. Explicitly trim the sequence or add trailing N before translation. This may become an error in future.\n",
      "  warnings.warn(\n"
     ]
    }
   ],
   "source": [
    "#6-frame translation\n",
    "\n",
    "from Bio.Seq import Seq\n",
    "from Bio import SeqIO\n",
    "for seq_record in SeqIO.parse('combined-named.fasta','fasta'):\n",
    "    #forward 3 translations\n",
    "    fwd1 = seq_record.seq.translate()\n",
    "    fwd2 = seq_record.seq[1:].translate()\n",
    "    fwd3 = seq_record.seq[2:].translate()\n",
    "    revcomp = seq_record.seq.reverse_complement()\n",
    "    rev1 = revcomp.translate()\n",
    "    rev2 = revcomp[1:].translate()\n",
    "    rev3 = revcomp[2:].translate()\n",
    "    with open('6_frame_translate.fasta','a') as file_handle:\n",
    "        file_handle.write('>' + seq_record.description + '_1' + '\\n' + str(fwd1) + '\\n')\n",
    "        file_handle.write('>' + seq_record.description + '_2' + '\\n' + str(fwd2) + '\\n')\n",
    "        file_handle.write('>' + seq_record.description + '_3' + '\\n' + str(fwd3) + '\\n')\n",
    "        file_handle.write('>' + seq_record.description + '_4' + '\\n' + str(rev1) + '\\n')\n",
    "        file_handle.write('>' + seq_record.description + '_5' + '\\n' + str(rev2) + '\\n')\n",
    "        file_handle.write('>' + seq_record.description + '_6' + '\\n' + str(rev3) + '\\n')"
   ]
  },
  {
   "cell_type": "code",
   "execution_count": 3,
   "metadata": {},
   "outputs": [],
   "source": [
    "#search HMM models\n",
    "import subprocess\n",
    "\n",
    "conserved_domains = ['CC2-LZ','Gag-MA','Gag-Capsid','Env-GP41','Pol-MLVIN-C','RL40e','Pol-rve','SH2','SH3','Env-TLV-coat','zf-C2H2',\\\n",
    "    'Cornifin','Sina','SOCS','Peptidase','Epiglycanin','Tnp_22','Transposase_22','KOW']\n",
    "\n",
    "def hmmsearch(domain):\n",
    "    subprocess.run('hmmsearch {}.hmm 6_frame_translate.fasta > {}_output.txt'.format(domain, domain), shell = True)\n",
    "\n",
    "for domain in conserved_domains:\n",
    "    hmmsearch(domain)"
   ]
  },
  {
   "cell_type": "code",
   "execution_count": 4,
   "metadata": {},
   "outputs": [],
   "source": [
    "#parse trees - identify the names\n",
    "\n",
    "border_chars = [',','(',')',':']\n",
    "with open('tree.nwk') as file:\n",
    "    treelist = file.readlines()\n",
    "tree = treelist[0]\n",
    "resultlist = []\n",
    "finallist = []\n",
    "\n",
    "def extend(index):  #extends the word\n",
    "    if index < len(tree):\n",
    "        if tree[index] in border_chars and tree[index+1] not in border_chars:\n",
    "            return True\n",
    "        else:\n",
    "            return False\n",
    "    else:\n",
    "        return False\n",
    "\n",
    "def evaluate(index):    #evaluates if the end of this word is reached. Returns False if the end is reached\n",
    "    if index < len(tree) and tree[index] in border_chars:\n",
    "        return True\n",
    "    else:\n",
    "        return False\n",
    "\n",
    "#extract everything between border characters as names\n",
    "for index in range(len(tree)):\n",
    "    if extend(index):\n",
    "        orig_index = index\n",
    "        if index < 17000:\n",
    "            while True:\n",
    "                eval = evaluate(index+1)\n",
    "                index += 1\n",
    "                if eval:\n",
    "                    resultlist.append(tree[orig_index+1:index])\n",
    "                    break\n",
    "        else:\n",
    "            pass\n",
    "\n",
    "#filter unrelated sequences out of resultlist\n",
    "for element in resultlist:\n",
    "    if element[0:2] == 'NW':\n",
    "        finallist.append(element)\n",
    "\n",
    "#parse HMMER output\n",
    "from Bio import SearchIO\n",
    "for domain in conserved_domains:\n",
    "    filename = '{}_output.txt'.format(domain)\n",
    "    qresult = list(SearchIO.parse(filename, 'hmmer3-text'))\n",
    "    result = qresult[-1]\n",
    "    for hit in result:        \n",
    "        try:\n",
    "            if hit.evalue < 0.0001 and finallist.index(hit.id[:-2]):    #e-value and element in the list conditions\n",
    "                index = tree.find(hit.id[0])\n",
    "                orig_index = index  #isolate the current string of the element\n",
    "                while True:\n",
    "                    eval = evaluate(index+1)\n",
    "                    index += 1\n",
    "                    if eval:\n",
    "                        if domain not in tree[orig_index+1:index]:\n",
    "                            newname = hit.id[:-2] + '_{}'.format(domain)\n",
    "                            tree = tree.replace(hit.id[:-2], newname)\n",
    "                        break\n",
    "        except ValueError:\n",
    "            pass\n",
    "with open('marked_tree.nwk','w') as file_handle:\n",
    "    file_handle.write(tree)"
   ]
  }
 ],
 "metadata": {
  "interpreter": {
   "hash": "7dbc811a8038991d01dab1dafaa730606284b7bff6896790513384e6a6223904"
  },
  "kernelspec": {
   "display_name": "Python 3.8.8",
   "language": "python",
   "name": "python3"
  },
  "language_info": {
   "codemirror_mode": {
    "name": "ipython",
    "version": 3
   },
   "file_extension": ".py",
   "mimetype": "text/x-python",
   "name": "python",
   "nbconvert_exporter": "python",
   "pygments_lexer": "ipython3",
   "version": "3.8.8"
  },
  "orig_nbformat": 4
 },
 "nbformat": 4,
 "nbformat_minor": 2
}
