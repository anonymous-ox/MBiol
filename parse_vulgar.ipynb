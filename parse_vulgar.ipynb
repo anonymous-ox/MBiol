{
 "cells": [
  {
   "cell_type": "code",
   "execution_count": 1,
   "metadata": {},
   "outputs": [],
   "source": [
    "from Bio import SearchIO\n",
    "filename = 'env_result.txt'\n",
    "qresult = list(SearchIO.parse(filename, 'exonerate-text'))\n",
    "result = qresult[-1]\n",
    "\n",
    "for hits in result:\n",
    "    seq = '-' * 682\n",
    "    for hsp in hits: #export smallest hit start and largest hit end. Also the sequences?\n",
    "            #print the sequences on a preset list\n",
    "        for hspfrag in hsp:\n",
    "            chars = [hspfrag.query_start, hspfrag.query_end, str(hspfrag.hit.seq)]\n",
    "            seq = seq[:chars[0]] + chars[2] + seq[chars[1]:]\n",
    "    alignment = (hits.id, seq)\n",
    "    with open('env-seqs.fasta', 'a') as file_handle:\n",
    "        file_handle.write('>' + alignment[0] + '\\n' + alignment[1] + '\\n')"
   ]
  },
  {
   "cell_type": "code",
   "execution_count": 35,
   "metadata": {},
   "outputs": [],
   "source": [
    "filename = 'pol_result.txt'\n",
    "qresult = list(SearchIO.parse(filename, 'exonerate-text'))\n",
    "result = qresult[-1]\n",
    "\n",
    "for hits in result:\n",
    "    seq = '-' * 1183\n",
    "    for hsp in hits: #export smallest hit start and largest hit end. Also the sequences?\n",
    "            #print the sequences on a preset list\n",
    "        for hspfrag in hsp:\n",
    "            chars = [hspfrag.query_start, hspfrag.query_end, str(hspfrag.hit.seq)]\n",
    "            seq = seq[:chars[0]] + chars[2] + seq[chars[1]:]\n",
    "    alignment = (hits.id, seq)\n",
    "    with open('aligned-seqs-pol.fasta', 'a') as file_handle:\n",
    "        file_handle.write('>' + alignment[0] + '\\n' + alignment[1] + '\\n')"
   ]
  },
  {
   "cell_type": "code",
   "execution_count": 36,
   "metadata": {},
   "outputs": [],
   "source": [
    "filename = 'gag_result.txt'\n",
    "qresult = list(SearchIO.parse(filename, 'exonerate-text'))\n",
    "result = qresult[-1]\n",
    "\n",
    "for hits in result:\n",
    "    seq = '-' * 523\n",
    "    for hsp in hits: #export smallest hit start and largest hit end. Also the sequences?\n",
    "            #print the sequences on a preset list\n",
    "        for hspfrag in hsp:\n",
    "            chars = [hspfrag.query_start, hspfrag.query_end, str(hspfrag.hit.seq)]\n",
    "            seq = seq[:chars[0]] + chars[2] + seq[chars[1]:]\n",
    "    alignment = (hits.id, seq)\n",
    "    with open('aligned-seqs-env.fasta', 'a') as file_handle:\n",
    "        file_handle.write('>' + alignment[0] + '\\n' + alignment[1] + '\\n')"
   ]
  }
 ],
 "metadata": {
  "interpreter": {
   "hash": "916dbcbb3f70747c44a77c7bcd40155683ae19c65e1c03b4aa3499c5328201f1"
  },
  "kernelspec": {
   "display_name": "Python 3.8.10 64-bit",
   "language": "python",
   "name": "python3"
  },
  "language_info": {
   "codemirror_mode": {
    "name": "ipython",
    "version": 3
   },
   "file_extension": ".py",
   "mimetype": "text/x-python",
   "name": "python",
   "nbconvert_exporter": "python",
   "pygments_lexer": "ipython3",
   "version": "3.8.8"
  },
  "orig_nbformat": 4
 },
 "nbformat": 4,
 "nbformat_minor": 2
}
