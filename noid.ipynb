{
 "cells": [
  {
   "cell_type": "code",
   "execution_count": 5,
   "metadata": {},
   "outputs": [],
   "source": [
    "from Bio import SeqIO\n",
    "\n",
    "seqs = []\n",
    "for seq_record in SeqIO.parse('env-seqs.fasta','fasta'):\n",
    "    seq = str(seq_record.seq)\n",
    "    if seq not in seqs:\n",
    "        seqs.append(seq)\n",
    "        with open('env_noid.fasta', 'a') as file_handle:\n",
    "            file_handle.write('>' + seq_record.description.split(' ')[0] + '\\n' + seq + '\\n')\n"
   ]
  },
  {
   "cell_type": "code",
   "execution_count": 6,
   "metadata": {},
   "outputs": [],
   "source": [
    "from Bio import SeqIO\n",
    "\n",
    "seqs = []\n",
    "for seq_record in SeqIO.parse('pol-seqs.fasta','fasta'):\n",
    "    seq = str(seq_record.seq)\n",
    "    if seq not in seqs:\n",
    "        seqs.append(seq)\n",
    "        with open('pol_noid.fasta', 'a') as file_handle:\n",
    "            file_handle.write('>' + seq_record.description.split(' ')[0] + '\\n' + seq + '\\n')\n"
   ]
  }
 ],
 "metadata": {
  "interpreter": {
   "hash": "7dbc811a8038991d01dab1dafaa730606284b7bff6896790513384e6a6223904"
  },
  "kernelspec": {
   "display_name": "Python 3.8.8",
   "language": "python",
   "name": "python3"
  },
  "language_info": {
   "codemirror_mode": {
    "name": "ipython",
    "version": 3
   },
   "file_extension": ".py",
   "mimetype": "text/x-python",
   "name": "python",
   "nbconvert_exporter": "python",
   "pygments_lexer": "ipython3",
   "version": "3.8.8"
  },
  "orig_nbformat": 4
 },
 "nbformat": 4,
 "nbformat_minor": 2
}
