{
 "cells": [
  {
   "cell_type": "code",
   "execution_count": 1,
   "metadata": {},
   "outputs": [
    {
     "name": "stdout",
     "output_type": "stream",
     "text": [
      "              Query         Subject  Identity  Length  Mismatch  Gap_opens  \\\n",
      "0  GCE32a_consensus  NW_023416309.1    88.931     262        29          0   \n",
      "1  GCE32a_consensus  NW_023416309.1    78.986     138        26          1   \n",
      "2  GCE32a_consensus  NW_023416309.1    77.419      62        14          0   \n",
      "3  GCE32a_consensus  NW_023416309.1    81.250      48         9          0   \n",
      "4  GCE32a_consensus  NW_023416309.1    49.174     242       120          3   \n",
      "\n",
      "   Query_start  Query_end  Subject_start  Subject_end        E-value  \\\n",
      "0            1        262       32241761     32240976  1.160000e-130   \n",
      "1            1        138       16365067     16364663   1.430000e-84   \n",
      "2          191        252       16364508     16364323   1.430000e-84   \n",
      "3          149        196       16364633     16364490   1.430000e-84   \n",
      "4           14        254       65859429     65860148   1.210000e-47   \n",
      "\n",
      "   bit_score  Positives  Q_frame  S_frame  \n",
      "0      419.0      92.75        0       -1  \n",
      "1      186.0      85.51        0       -2  \n",
      "2      100.0      82.26        0       -3  \n",
      "3       79.3      85.42        0       -1  \n",
      "4      181.0      63.64        0        3  \n",
      "500\n",
      "['NW_023416309.1', 32231761, 32250976]\n",
      "50\n",
      "100\n",
      "150\n",
      "200\n",
      "250\n",
      "300\n",
      "350\n",
      "400\n",
      "450\n",
      "500\n"
     ]
    }
   ],
   "source": [
    "#extract sequences from NCBI BLAST hit table\n",
    "#filter sequences by e-value & best hit (unique sequence)\n",
    "import pandas as pd\n",
    "from Bio import SeqIO\n",
    "df = pd.read_csv('GCE32a_pol_hit_table.csv')\n",
    "print(df.head())\n",
    "\n",
    "#e-value cutoff 1e-10\n",
    "\n",
    "def extract_coord(i, df):\n",
    "    accession = str(df.loc[i, 'Subject'])\n",
    "    start = str(df.loc[i, 'Subject_start'])\n",
    "    end = str(df.loc[i, 'Subject_end'])\n",
    "    return accession, start, end\n",
    "\n",
    "grandlist = []\n",
    "for i in range(len(df.index)):\n",
    "    if i == 0:  #first special case\n",
    "        accession, start, end = extract_coord(i, df)\n",
    "        grandlist.append([accession, int(start)-10000, int(end)+10000])\n",
    "    elif str(df.loc[i,'Subject']) != str(df.loc[i-1,'Subject']):\n",
    "        value = str(df.loc[i, 'E-value'])\n",
    "        if value == '0':\n",
    "            accession, start, end = extract_coord(i, df)\n",
    "            grandlist.append([accession, int(start)-10000, int(end)+10000])\n",
    "        elif 'e' in value[-5:]:\n",
    "            if value[-3] == '1' or value[-3] == '2':\n",
    "                accession, start, end = extract_coord(i, df)\n",
    "                grandlist.append([accession, int(start)-10000, int(end)+10000])\n",
    "            elif not value[-2] == '0':\n",
    "                accession, start, end = extract_coord(i, df)\n",
    "                grandlist.append([accession, int(start)-10000, int(end)+10000])\n",
    "\n",
    "print(len(grandlist))\n",
    "print(grandlist[0])\n",
    "\n",
    "#fetch the sequences with efetch\n",
    "import os\n",
    "import subprocess\n",
    "i = 0\n",
    "for seq in grandlist:\n",
    "    if seq[1] > 0:\n",
    "        subprocess.run('efetch -db nucleotide -id {} -seq_start {} -seq_stop {} -format fasta > {}_{}.fasta'.format(seq[0], seq[1], seq[2], seq[0], seq[1]), shell=True)\n",
    "    i += 1\n",
    "    if i % 50 == 0:\n",
    "        print(i)"
   ]
  },
  {
   "cell_type": "code",
   "execution_count": 1,
   "metadata": {},
   "outputs": [
    {
     "name": "stdout",
     "output_type": "stream",
     "text": [
      "478\n",
      "100\n",
      "200\n",
      "300\n",
      "400\n"
     ]
    }
   ],
   "source": [
    "#merge all the files\n",
    "import os\n",
    "from Bio import SeqIO\n",
    "dir = os.getcwd()\n",
    "filelist = []\n",
    "for file in os.listdir(dir):\n",
    "    filename = os.fsdecode(file)\n",
    "    if filename.endswith(\".fasta\"):\n",
    "        filelist.append(filename)\n",
    "        continue\n",
    "    else: \n",
    "        continue\n",
    "print(len(filelist))\n",
    "i = 0\n",
    "\n",
    "for file in filelist:\n",
    "    for seq_record in SeqIO.parse('{}'.format(file), 'fasta'):\n",
    "        with open('combined.fasta', 'a') as output_handle:\n",
    "            output_handle.write('>' + str(seq_record.description) + '\\n' + str(seq_record.seq) + '\\n')\n",
    "        i += 1\n",
    "        if i % 100 == 0:\n",
    "            print(i)"
   ]
  }
 ],
 "metadata": {
  "interpreter": {
   "hash": "7dbc811a8038991d01dab1dafaa730606284b7bff6896790513384e6a6223904"
  },
  "kernelspec": {
   "display_name": "Python 3.8.8 64-bit (conda)",
   "language": "python",
   "name": "python3"
  },
  "language_info": {
   "codemirror_mode": {
    "name": "ipython",
    "version": 3
   },
   "file_extension": ".py",
   "mimetype": "text/x-python",
   "name": "python",
   "nbconvert_exporter": "python",
   "pygments_lexer": "ipython3",
   "version": "3.8.8"
  },
  "orig_nbformat": 4
 },
 "nbformat": 4,
 "nbformat_minor": 2
}
